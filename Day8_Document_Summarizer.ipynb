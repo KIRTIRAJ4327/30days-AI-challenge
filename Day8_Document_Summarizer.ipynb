{
  "nbformat": 4,
  "nbformat_minor": 0,
  "metadata": {
    "colab": {
      "provenance": [],
      "authorship_tag": "ABX9TyPOQEqS+GDEfa5AIMfdnztN",
      "include_colab_link": true
    },
    "kernelspec": {
      "name": "python3",
      "display_name": "Python 3"
    },
    "language_info": {
      "name": "python"
    }
  },
  "cells": [
    {
      "cell_type": "markdown",
      "metadata": {
        "id": "view-in-github",
        "colab_type": "text"
      },
      "source": [
        "<a href=\"https://colab.research.google.com/github/KIRTIRAJ4327/30days-AI-challenge/blob/main/Day8_Document_Summarizer.ipynb\" target=\"_parent\"><img src=\"https://colab.research.google.com/assets/colab-badge.svg\" alt=\"Open In Colab\"/></a>"
      ]
    },
    {
      "cell_type": "markdown",
      "source": [
        "**Core Concept**\n",
        "\n",
        "Text summarization: Learning how to extract or generate concise versions of longer documents"
      ],
      "metadata": {
        "id": "3mfegDFo76OD"
      }
    },
    {
      "cell_type": "markdown",
      "source": [
        "**Project Scope**\n",
        "\n",
        "Build a tool that can take a long article as input and produce a shorter summary that captures the key points"
      ],
      "metadata": {
        "id": "GSLyfi-y8PK7"
      }
    },
    {
      "cell_type": "markdown",
      "source": [
        "**Key Components**\n",
        "\n",
        "\n",
        "*   Loading and preprocessing text data\n",
        "*   Understanding extractive summarization techniques\n",
        "*   Implementing a summarization algorithm\n",
        "\n",
        "\n",
        "*   Evaluating summary quality\n",
        "\n",
        "\n",
        "\n",
        "\n",
        "\n"
      ],
      "metadata": {
        "id": "OocJKC7g8Scd"
      }
    },
    {
      "cell_type": "markdown",
      "source": [
        "**Set Up Your Environment**"
      ],
      "metadata": {
        "id": "Ej0LpjsE8j80"
      }
    },
    {
      "cell_type": "code",
      "source": [
        "# Install required libraries\n",
        "!pip install nltk sumy newspaper3k\n",
        "\n",
        "# Download required NLTK data\n",
        "import nltk\n",
        "import nltk\n",
        "\n",
        "nltk.download('punkt_tab')\n",
        "nltk.download('punkt')\n",
        "nltk.download('stopwords')"
      ],
      "metadata": {
        "colab": {
          "base_uri": "https://localhost:8080/"
        },
        "id": "X644Zr8p1rVe",
        "outputId": "d3982b48-7aa9-4c27-892d-1f7a283e789c"
      },
      "execution_count": 26,
      "outputs": [
        {
          "output_type": "stream",
          "name": "stdout",
          "text": [
            "Requirement already satisfied: nltk in /usr/local/lib/python3.11/dist-packages (3.9.1)\n",
            "Requirement already satisfied: sumy in /usr/local/lib/python3.11/dist-packages (0.11.0)\n",
            "Requirement already satisfied: newspaper3k in /usr/local/lib/python3.11/dist-packages (0.2.8)\n",
            "Requirement already satisfied: click in /usr/local/lib/python3.11/dist-packages (from nltk) (8.1.8)\n",
            "Requirement already satisfied: joblib in /usr/local/lib/python3.11/dist-packages (from nltk) (1.4.2)\n",
            "Requirement already satisfied: regex>=2021.8.3 in /usr/local/lib/python3.11/dist-packages (from nltk) (2024.11.6)\n",
            "Requirement already satisfied: tqdm in /usr/local/lib/python3.11/dist-packages (from nltk) (4.67.1)\n",
            "Requirement already satisfied: docopt<0.7,>=0.6.1 in /usr/local/lib/python3.11/dist-packages (from sumy) (0.6.2)\n",
            "Requirement already satisfied: breadability>=0.1.20 in /usr/local/lib/python3.11/dist-packages (from sumy) (0.1.20)\n",
            "Requirement already satisfied: requests>=2.7.0 in /usr/local/lib/python3.11/dist-packages (from sumy) (2.32.3)\n",
            "Requirement already satisfied: pycountry>=18.2.23 in /usr/local/lib/python3.11/dist-packages (from sumy) (24.6.1)\n",
            "Requirement already satisfied: beautifulsoup4>=4.4.1 in /usr/local/lib/python3.11/dist-packages (from newspaper3k) (4.13.4)\n",
            "Requirement already satisfied: Pillow>=3.3.0 in /usr/local/lib/python3.11/dist-packages (from newspaper3k) (11.1.0)\n",
            "Requirement already satisfied: PyYAML>=3.11 in /usr/local/lib/python3.11/dist-packages (from newspaper3k) (6.0.2)\n",
            "Requirement already satisfied: cssselect>=0.9.2 in /usr/local/lib/python3.11/dist-packages (from newspaper3k) (1.3.0)\n",
            "Requirement already satisfied: lxml>=3.6.0 in /usr/local/lib/python3.11/dist-packages (from newspaper3k) (5.3.2)\n",
            "Requirement already satisfied: feedparser>=5.2.1 in /usr/local/lib/python3.11/dist-packages (from newspaper3k) (6.0.11)\n",
            "Requirement already satisfied: tldextract>=2.0.1 in /usr/local/lib/python3.11/dist-packages (from newspaper3k) (5.3.0)\n",
            "Requirement already satisfied: feedfinder2>=0.0.4 in /usr/local/lib/python3.11/dist-packages (from newspaper3k) (0.0.4)\n",
            "Requirement already satisfied: jieba3k>=0.35.1 in /usr/local/lib/python3.11/dist-packages (from newspaper3k) (0.35.1)\n",
            "Requirement already satisfied: python-dateutil>=2.5.3 in /usr/local/lib/python3.11/dist-packages (from newspaper3k) (2.8.2)\n",
            "Requirement already satisfied: tinysegmenter==0.3 in /usr/local/lib/python3.11/dist-packages (from newspaper3k) (0.3)\n",
            "Requirement already satisfied: soupsieve>1.2 in /usr/local/lib/python3.11/dist-packages (from beautifulsoup4>=4.4.1->newspaper3k) (2.6)\n",
            "Requirement already satisfied: typing-extensions>=4.0.0 in /usr/local/lib/python3.11/dist-packages (from beautifulsoup4>=4.4.1->newspaper3k) (4.13.2)\n",
            "Requirement already satisfied: chardet in /usr/local/lib/python3.11/dist-packages (from breadability>=0.1.20->sumy) (5.2.0)\n",
            "Requirement already satisfied: six in /usr/local/lib/python3.11/dist-packages (from feedfinder2>=0.0.4->newspaper3k) (1.17.0)\n",
            "Requirement already satisfied: sgmllib3k in /usr/local/lib/python3.11/dist-packages (from feedparser>=5.2.1->newspaper3k) (1.0.0)\n",
            "Requirement already satisfied: charset-normalizer<4,>=2 in /usr/local/lib/python3.11/dist-packages (from requests>=2.7.0->sumy) (3.4.1)\n",
            "Requirement already satisfied: idna<4,>=2.5 in /usr/local/lib/python3.11/dist-packages (from requests>=2.7.0->sumy) (3.10)\n",
            "Requirement already satisfied: urllib3<3,>=1.21.1 in /usr/local/lib/python3.11/dist-packages (from requests>=2.7.0->sumy) (2.3.0)\n",
            "Requirement already satisfied: certifi>=2017.4.17 in /usr/local/lib/python3.11/dist-packages (from requests>=2.7.0->sumy) (2025.1.31)\n",
            "Requirement already satisfied: requests-file>=1.4 in /usr/local/lib/python3.11/dist-packages (from tldextract>=2.0.1->newspaper3k) (2.1.0)\n",
            "Requirement already satisfied: filelock>=3.0.8 in /usr/local/lib/python3.11/dist-packages (from tldextract>=2.0.1->newspaper3k) (3.18.0)\n"
          ]
        },
        {
          "output_type": "stream",
          "name": "stderr",
          "text": [
            "[nltk_data] Downloading package punkt_tab to /root/nltk_data...\n",
            "[nltk_data]   Unzipping tokenizers/punkt_tab.zip.\n",
            "[nltk_data] Downloading package punkt to /root/nltk_data...\n",
            "[nltk_data]   Package punkt is already up-to-date!\n",
            "[nltk_data] Downloading package stopwords to /root/nltk_data...\n",
            "[nltk_data]   Package stopwords is already up-to-date!\n"
          ]
        },
        {
          "output_type": "execute_result",
          "data": {
            "text/plain": [
              "True"
            ]
          },
          "metadata": {},
          "execution_count": 26
        }
      ]
    },
    {
      "cell_type": "markdown",
      "source": [
        "**Import Libraries**"
      ],
      "metadata": {
        "id": "kqJ3fB4c1wFS"
      }
    },
    {
      "cell_type": "code",
      "source": [
        "import nltk\n",
        "from nltk.corpus import stopwords\n",
        "from nltk.tokenize import sent_tokenize\n",
        "from sumy.parsers.plaintext import PlaintextParser\n",
        "from sumy.nlp.tokenizers import Tokenizer\n",
        "from sumy.summarizers.text_rank import TextRankSummarizer\n",
        "from sumy.summarizers.lex_rank import LexRankSummarizer\n",
        "from sumy.summarizers.lsa import LsaSummarizer\n",
        "!pip install lxml[html_clean]\n",
        "import newspaper\n",
        "from newspaper import Article\n",
        "import pandas as pd\n",
        "import matplotlib.pyplot as plt"
      ],
      "metadata": {
        "colab": {
          "base_uri": "https://localhost:8080/"
        },
        "id": "rVU3dZIe1xP7",
        "outputId": "2ead1315-267b-425a-c32d-802701c4a8ec"
      },
      "execution_count": 27,
      "outputs": [
        {
          "output_type": "stream",
          "name": "stdout",
          "text": [
            "Requirement already satisfied: lxml[html_clean] in /usr/local/lib/python3.11/dist-packages (5.3.2)\n",
            "Requirement already satisfied: lxml_html_clean in /usr/local/lib/python3.11/dist-packages (from lxml[html_clean]) (0.4.2)\n"
          ]
        }
      ]
    },
    {
      "cell_type": "markdown",
      "source": [
        "**Create Functions for Summarization**"
      ],
      "metadata": {
        "id": "2hVSuPSF2CYB"
      }
    },
    {
      "cell_type": "code",
      "source": [
        "def summarize_textrank(text, sentences_count=5, language=\"english\"):\n",
        "    \"\"\"\n",
        "    Summarize text using the TextRank algorithm\n",
        "    \"\"\"\n",
        "    parser = PlaintextParser.from_string(text, Tokenizer(language))\n",
        "    summarizer = TextRankSummarizer()\n",
        "    summary = summarizer(parser.document, sentences_count)\n",
        "    return \" \".join(str(sentence) for sentence in summary)\n",
        "\n",
        "def summarize_lexrank(text, sentences_count=5, language=\"english\"):\n",
        "    \"\"\"\n",
        "    Summarize text using the LexRank algorithm\n",
        "    \"\"\"\n",
        "    parser = PlaintextParser.from_string(text, Tokenizer(language))\n",
        "    summarizer = LexRankSummarizer()\n",
        "    summary = summarizer(parser.document, sentences_count)\n",
        "    return \" \".join(str(sentence) for sentence in summary)\n",
        "\n",
        "def summarize_lsa(text, sentences_count=5, language=\"english\"):\n",
        "    \"\"\"\n",
        "    Summarize text using Latent Semantic Analysis\n",
        "    \"\"\"\n",
        "    parser = PlaintextParser.from_string(text, Tokenizer(language))\n",
        "    summarizer = LsaSummarizer()\n",
        "    summary = summarizer(parser.document, sentences_count)\n",
        "    return \" \".join(str(sentence) for sentence in summary)"
      ],
      "metadata": {
        "id": "OSylxgyo2HCQ"
      },
      "execution_count": 28,
      "outputs": []
    },
    {
      "cell_type": "markdown",
      "source": [
        "**Create a Function to Fetch Articles from URLs**"
      ],
      "metadata": {
        "id": "kViZoLuk2Jbg"
      }
    },
    {
      "cell_type": "code",
      "source": [
        "def get_article_from_url(url):\n",
        "    \"\"\"\n",
        "    Fetch and parse an article from a URL\n",
        "    \"\"\"\n",
        "    article = Article(url)\n",
        "    article.download()\n",
        "    article.parse()\n",
        "    return {\n",
        "        'title': article.title,\n",
        "        'text': article.text,\n",
        "        'authors': article.authors,\n",
        "        'publish_date': article.publish_date,\n",
        "        'top_image': article.top_image\n",
        "    }"
      ],
      "metadata": {
        "id": "vcm-oi4t2MEc"
      },
      "execution_count": 29,
      "outputs": []
    },
    {
      "cell_type": "markdown",
      "source": [
        "**Create a Function to Compare Original and Summary**"
      ],
      "metadata": {
        "id": "NwO8I6UW2Os5"
      }
    },
    {
      "cell_type": "code",
      "source": [
        "def compare_text_lengths(original_text, summary):\n",
        "    \"\"\"\n",
        "    Compare the lengths of original text and summary\n",
        "    \"\"\"\n",
        "    original_sentences = sent_tokenize(original_text)\n",
        "    summary_sentences = sent_tokenize(summary)\n",
        "\n",
        "    original_word_count = len(original_text.split())\n",
        "    summary_word_count = len(summary.split())\n",
        "\n",
        "    reduction_percentage = ((original_word_count - summary_word_count) / original_word_count) * 100\n",
        "\n",
        "    comparison = {\n",
        "        'original_sentences': len(original_sentences),\n",
        "        'summary_sentences': len(summary_sentences),\n",
        "        'original_words': original_word_count,\n",
        "        'summary_words': summary_word_count,\n",
        "        'reduction_percentage': reduction_percentage\n",
        "    }\n",
        "\n",
        "    return comparison"
      ],
      "metadata": {
        "id": "IJTdXn612R2O"
      },
      "execution_count": 30,
      "outputs": []
    },
    {
      "cell_type": "markdown",
      "source": [
        "**Create a Function to Visualize the Comparison**"
      ],
      "metadata": {
        "id": "9lqFx2ci2Uwg"
      }
    },
    {
      "cell_type": "code",
      "source": [
        "def visualize_comparison(comparison):\n",
        "    \"\"\"\n",
        "    Create a visualization comparing original text and summary\n",
        "    \"\"\"\n",
        "    # Create a bar chart\n",
        "    labels = ['Original', 'Summary']\n",
        "    word_counts = [comparison['original_words'], comparison['summary_words']]\n",
        "\n",
        "    plt.figure(figsize=(10, 6))\n",
        "    plt.bar(labels, word_counts, color=['blue', 'green'])\n",
        "    plt.title('Text Length Comparison: Original vs Summary')\n",
        "    plt.ylabel('Word Count')\n",
        "    for i, count in enumerate(word_counts):\n",
        "        plt.text(i, count + 50, str(count), ha='center')\n",
        "\n",
        "    plt.figtext(0.5, 0.01, f\"Reduction: {comparison['reduction_percentage']:.2f}%\",\n",
        "                ha=\"center\", fontsize=12, bbox={\"facecolor\":\"orange\", \"alpha\":0.5, \"pad\":5})\n",
        "\n",
        "    plt.show()"
      ],
      "metadata": {
        "id": "RmMT3FPu2YL1"
      },
      "execution_count": 31,
      "outputs": []
    },
    {
      "cell_type": "markdown",
      "source": [
        "**Create the Main Interactive Function**"
      ],
      "metadata": {
        "id": "gtT3Ao4w3A22"
      }
    },
    {
      "cell_type": "code",
      "source": [
        "def document_summarizer():\n",
        "    \"\"\"\n",
        "    Main function to interact with the document summarizer\n",
        "    \"\"\"\n",
        "    print(\"=\" * 50)\n",
        "    print(\"DOCUMENT SUMMARIZER\")\n",
        "    print(\"=\" * 50)\n",
        "\n",
        "    source_type = input(\"Would you like to summarize text from a URL or paste text? (url/paste): \").lower()\n",
        "\n",
        "    if source_type == 'url':\n",
        "        url = input(\"\\nEnter the URL of the article: \")\n",
        "        try:\n",
        "            article_data = get_article_from_url(url)\n",
        "            text = article_data['text']\n",
        "            print(f\"\\nTitle: {article_data['title']}\")\n",
        "            print(f\"Authors: {', '.join(article_data['authors']) if article_data['authors'] else 'Unknown'}\")\n",
        "            print(f\"Publish Date: {article_data['publish_date']}\")\n",
        "        except Exception as e:\n",
        "            print(f\"Error fetching article: {e}\")\n",
        "            return\n",
        "    else:\n",
        "        text = input(\"\\nPaste your text here: \")\n",
        "\n",
        "    # Choose algorithm\n",
        "    print(\"\\nChoose a summarization algorithm:\")\n",
        "    print(\"1. TextRank (focuses on most central sentences)\")\n",
        "    print(\"2. LexRank (similar to TextRank but uses different similarity measure)\")\n",
        "    print(\"3. LSA (Latent Semantic Analysis - uses semantics)\")\n",
        "\n",
        "    algo_choice = input(\"\\nEnter your choice (1-3): \")\n",
        "\n",
        "    # Get number of sentences\n",
        "    try:\n",
        "        sentences_count = int(input(\"\\nHow many sentences should the summary contain? \"))\n",
        "    except ValueError:\n",
        "        sentences_count = 5\n",
        "        print(\"Invalid input. Using default of 5 sentences.\")\n",
        "\n",
        "    # Perform summarization\n",
        "    if algo_choice == '1':\n",
        "        summary = summarize_textrank(text, sentences_count)\n",
        "        algo_name = \"TextRank\"\n",
        "    elif algo_choice == '2':\n",
        "        summary = summarize_lexrank(text, sentences_count)\n",
        "        algo_name = \"LexRank\"\n",
        "    elif algo_choice == '3':\n",
        "        summary = summarize_lsa(text, sentences_count)\n",
        "        algo_name = \"LSA\"\n",
        "    else:\n",
        "        summary = summarize_textrank(text, sentences_count)\n",
        "        algo_name = \"TextRank (default)\"\n",
        "\n",
        "    # Display results\n",
        "    print(\"\\n\" + \"=\" * 50)\n",
        "    print(f\"SUMMARY USING {algo_name}:\")\n",
        "    print(\"=\" * 50)\n",
        "    print(summary)\n",
        "\n",
        "    # Compare and visualize\n",
        "    comparison = compare_text_lengths(text, summary)\n",
        "\n",
        "    print(\"\\n\" + \"=\" * 50)\n",
        "    print(\"SUMMARY STATISTICS:\")\n",
        "    print(\"=\" * 50)\n",
        "    print(f\"Original Text: {comparison['original_words']} words, {comparison['original_sentences']} sentences\")\n",
        "    print(f\"Summary: {comparison['summary_words']} words, {comparison['summary_sentences']} sentences\")\n",
        "    print(f\"Reduction: {comparison['reduction_percentage']:.2f}%\")\n",
        "\n",
        "    visualize_comparison(comparison)\n",
        "\n",
        "    return {\n",
        "        'original_text': text,\n",
        "        'summary': summary,\n",
        "        'algorithm': algo_name,\n",
        "        'comparison': comparison\n",
        "    }"
      ],
      "metadata": {
        "id": "x72NaXCJ3B2B"
      },
      "execution_count": 32,
      "outputs": []
    },
    {
      "cell_type": "markdown",
      "source": [
        "**Run Your Document Summarizer**"
      ],
      "metadata": {
        "id": "WNRZzomu3ERJ"
      }
    },
    {
      "cell_type": "code",
      "source": [
        "if __name__ == \"__main__\":\n",
        "    results = document_summarizer()"
      ],
      "metadata": {
        "colab": {
          "base_uri": "https://localhost:8080/",
          "height": 1000
        },
        "id": "nDXS5Ddy3IWe",
        "outputId": "da841dee-ce66-43d0-91b3-a040961a5fa0"
      },
      "execution_count": 34,
      "outputs": [
        {
          "output_type": "stream",
          "name": "stdout",
          "text": [
            "==================================================\n",
            "DOCUMENT SUMMARIZER\n",
            "==================================================\n",
            "Would you like to summarize text from a URL or paste text? (url/paste): https://education.nationalgeographic.org/resource/food/\n",
            "\n",
            "Paste your text here: Food is one of the basic necessities of life. Food contains nutrients—substances essential for the growth, repair, and maintenance of body tissues and for the regulation of vital processes. Nutrients provide the energy our bodies need to function.  The energy in food is measured in units called calories. Age, sex, weight, height, and level of activity determine the number of calories a person needs each day. Depending on age, sex, and activity level, the recommended daily caloric intake for a child aged 11 to 14 can range anywhere from 1,600 to 2,600 calories per day, with sedentary girls needing the fewest calories and active boys needing the most. For adults, this can range from 1,800 to about 3,000.  Kinds of Nutrients  Scientists divide nutrients into six major groups: carbohydrates, fats, proteins, minerals, vitamins, and water. Most foods contain all or most nutrient groups, in different amounts.  Carbohydrates provide energy for the body. Nearly all the carbohydrates we eat come from plants. They include starches found in cereal grains and plants like potatoes and yams. Sugars, found in fruits, vegetables, and milk, are also carbohydrates. Sugarcane and sugar beets are grown specifically for their high sugar content.  Many of the starches and sugars we eat have been processed into products, such as flour and corn syrup. These processed carbohydrates are used in cookies, cakes, breads, pastas, and pies.  Fats provide more than twice as much energy as carbohydrates. They also help protect and insulate the body and its internal organs. Common fats include vegetable oils, such as soybean, cottonseed, and corn oil. They are used in cooking and in the processing of many foods. Fats that come from animal products include butter and lard. Eggs, milk, cheese, meats, poultry, and fish also contain high levels of fats.  Proteins are the body’s chief tissue-builders. They help keep skin, bones, muscles, and blood healthy. Proteins also help regulate bodily processes, including transporting oxygen and nutrients into and out of cells; the clotting of blood; and the formation of antibodies, which help fight disease. Animal products, such as beef, fish, poultry, eggs, and dairy products, are high in protein. Grains, nuts, and some beans are also protein-rich foods.  Minerals and vitamins are called micronutrients because they are needed in very small quantities compared with carbohydrates, fats, and proteins (known as macronutrients). Minerals provide building materials for the body and help regulate its activities, much as proteins do. Calcium and phosphorus build strong bones and teeth, iron contributes to healthy blood, and iodine helps keep the thyroid gland working.  Vitamins help the body make full use of other nutrients by assisting the chemical reactions that make those nutrients work. For example, vitamin B1, or thiamine, helps regulate the release of energy from carbohydrates, promotes a healthy appetite, and aids the functioning of the nervous system. Vitamin D helps in the growth and maintenance of healthy bones.  Other essentials for the body’s health include water, oxygen, and fiber. Some scientists include water in the list of basic nutrients. Water makes up more than half of a human body’s weight. It is involved in most body processes, such as the regulation of temperature, the transporting of nutrients into cells, and the elimination of waste products from cells.  Oxygen is not a nutrient, since it is breathed in and not eaten, but it is essential to life. It permits the release of energy from food inside the body.  Fiber is indigestible material found in most plant foods. It adds bulk to the diet, helping to keep the intestines healthy. Fiber-rich foods include whole grains, dried beans, and fresh fruits and vegetables.  A healthy diet contains a balanced mix of different foods that together provide all essential nutrients. Malnutrition is the lack of a balanced diet. Too few nutrients, too many nutrients, or an imbalance of nutrients (too many carbohydrates, for instance, and not enough fruits and vegetables) can lead to malnutrition.  Undernutrition is a form of malnutrition. It is usually linked to hunger. Undernutrition happens when the body does not get enough food to meet its needs. Many diseases and even death are caused by lack of food. Death due to lack of food is called starvation.  To get the right amounts of nutrients, people need to select from a range of food types: cereal grains; fruits and vegetables; legumes, meat, poultry, fish, and eggs; and milk and dairy products. A food pyramid outlines the suggested amount of these different types of foods people should eat each day.  Cereal Grains  Cereal grains are the edible seeds of certain grasses. People have grown them since the beginning of agriculture. Today, the most commonly grown grains are wheat, rice, and corn (maize). Other important grains are sorghum, millet, barley, oats, and rye.  Worldwide, cereal grains are the most important food staples. They are eaten almost daily by large populations. They supply a significant percentage of the calories consumed by the world’s population. Cereal grains and the products made from them provide food not only for people, but also for livestock, such as cattle, chickens, and hogs.  Throughout the world, more wheat is planted than any other grain. Wheat is the chief ingredient in most breads, cookies, cakes, crackers, pastas, and some breakfast cereals. China, the United States, Russia, Ukraine, India, France, and Canada are major wheat-producing countries. Wheat, often eaten as bread, serves as the principal food grain for people living in regions with temperate climates.  Rice, an Asian tropical grass, is a food staple for more than half the world’s population. More than 90 percent of the world’s total rice crop is produced and eaten in South and East Asia. Rice is also a food staple for people in parts of Africa and Latin America. This cereal grain thrives in a warm, humid climate with heavy rainfall or wet ground. It is often grown in flooded fields called rice paddies.  Hominy grits, corn bread, popcorn, and tortillas are all made with corn. Outside the United States, this grain is called maize. Although native to the Americas, maize is now cultivated throughout most of the world and is a staple food in many areas. It grows in various soils and climates and at different elevations. American farmers produce over 30 percent of the world’s corn; of that 40 percent, most of it is used to feed livestock. Corn is also used to produce sweeteners, such as corn syrup and cornstarch.  Sorghum and millet are other grains commonly used as livestock feeds. These grains are also staple foods for people in parts of Africa and Asia, where they are used in breads, porridges, and cakes.  Three other grains—barley, oats, and rye—are important in many regions. Barley thrives in a wide range of climates. One type of barley is the source of malt for making beer. Barley is also used in making vinegar, malt extract, and beverages similar to milk. Pearl barley, the most popular form of this grain, is often used in soups and other foods.  Oats and rye were domesticated much later than other grains. Oats are used mainly as livestock feed, but also go into oatmeal and other breakfast cereals. After wheat, rye is the second most common grain used as a bread flour; the two are often mixed together in breads. Bread made with rye alone, called black bread, is popular in many European countries.  Fruits and Vegetables  The term “fruit” has several meanings. To a botanist, it means the part of a plant that contains seeds. According to this definition, fruits include most nuts, as well as vegetables, such as cucumbers and tomatoes.  To most of us, though, “fruit” is defined as the soft, edible, seed-bearing part of a perennial plant. A perennial is a plant that lives for more than one growing season. Fresh fruits are rich in carbohydrates, vitamins, minerals, and fiber. They can be preserved by freezing, canning, or drying.  Different fruits grow in different climates, and may not grow well in climates that are too cold, hot, dry, or wet. Based on the kind of climate in which they grow, fruits can be classified in different groups: temperate fruits, subtropical fruits, and tropical fruits.  Temperate fruits grow best where there is a well-defined cold season, as in the U.S. states of Washington and Oregon. Temperate fruits include apples, berries, grapes, pears, plums, and peaches.  Subtropical fruits thrive where temperatures are mostly warm year-round. The area around the Mediterranean Sea has a subtropical climate. Citrus fruits, such as lemons, oranges, grapefruits, dates, pomegranates, and some types of avocadoes, are subtropical fruits.  Tropical fruits require a hot climate to grow. Tropical fruits, such as bananas, mangoes, and papayas, grow in hot, humid areas like the Philippines.  Vegetables are the edible parts of herbaceous plants. Herbaceous plants, sometimes just called herbs, have stems that are softer and less woody than those of trees and shrubs. Vegetables are good sources of fiber, minerals, and vitamins. Most vegetables are annuals, living for only one growing season.  Vegetables can be roots, leaves, stems, seeds, or bulbs. For example, carrots, radishes, and beets are roots. Cabbage, celery, lettuce, and spinach are leaves or leafstalks. Heads of broccoli are flower stalks topped by thick clusters of flower buds. Asparagus is a stem. Cucumbers, eggplants, and tomatoes contain the seeds of the plant. Garlic, leeks, and onions are bulbs.  Some plants, called tubers, have a special type of underground stem that can be eaten fresh as a vegetable or used as an ingredient in other dishes. In temperate regions, the most important tuber is the potato. The potato was first a food staple to indigenous cultures of the Andes of South America. Today, major potato-growing countries include Russia, China, and Poland.  Important tropical tubers include yams, cassavas, and taros. These tubers are staple foods in many cultures. For instance, taro is a major food crop of the islands of Polynesia, as well as West Africa. Cassava is a staple food for more than 500 million people in Africa and Latin America.  Legumes, Meat, Poultry, Fish, and Eggs  Legumes are plants that are raised for their edible seeds or seed pods. Peas, lima beans, soybeans, peanuts, and lentils are all legumes. Legumes that are harvested for their dry seeds, such as beans or lentils, are called pulses. Pulses are food staples in India and Pakistan.  Legumes and pulses contain high amounts of protein. In addition, they supply iron, other minerals, and vitamins.  The term “meat” usually refers to the edible flesh of mammals, such as cattle, pigs, and sheep. Meat is a high-protein food and is rich in other nutrients, as well.  The United States, Australia, Russia, and Argentina raise much of the world’s beef cattle. Beef can come from cows, bulls, or steers. Cows are adult female cattle. Bulls are adult male cattle capable of reproduction. Steers are adult male cattle that have been castrated, or been made incapable of reproduction. Meat from very young cattle, or calves, is called veal.  The world’s major hog producers include China, the European Union, the United States, Brazil, and Russia. Meat from hogs is called pork.  Lamb is meat from sheep less than a year old. It is especially popular in the Middle East, Australia, and the United Kingdom. Mutton, meat from mature sheep, has a stronger flavor and a rougher texture than lamb. New Zealand and Australia are the world’s largest exporters of lamb and mutton.  Bison, water buffalo, camels, goats, and yaks are all sources of meat. Wild animals, such as rabbits and deer, are also eaten as meat. Meat from wild animals is called game.  “Poultry” refers to domesticated birds that are raised for meat and eggs. Chickens are an important food source for most of the world’s population. Raising chickens is a major industry in many countries, including China, the United States, Russia, and across the European Union. Ducks, turkeys, geese, and guinea fowl are also raised for food in many parts of the world.  Fish and shellfish are probably the most popular meats worldwide. Fish provide about 15 percent of all animal proteins consumed by the world’s population. Fish and shellfish are excellent sources of vitamins and minerals. People eat fish raw or cooked, and preserve it by canning, freezing, drying, salting, smoking, or pickling.  Most of the fish and shellfish people eat come from the ocean. Tuna is one of the most popular ocean fish. Other fish come from inland bodies of fresh water, such as lakes and rivers. Bass, perch, and carp are popular freshwater fish worldwide.  An increasing amount of fish comes from fish farms, where fish and shellfish are raised commercially. The cultivation of fish and shellfish is called aquaculture.  Clams, oysters, crabs, and shrimp are popular types of shellfish. Abalone, a kind of mollusk, is another type of seafood. Conch, a large type of sea snail, is eaten in the Florida Keys and in the West Indies. Eels, octopuses, squids, and mussels are other popular seafoods.  Eggs are a source of proteins, fats, minerals, and vitamins. Boiled, fried, scrambled, or deviled, chicken eggs are popular around the world. They are also used in a variety of baked goods. People also eat the eggs of other birds, such as ducks and quail, and those of reptiles, such as turtles and crocodiles. The eggs of certain fish, mainly sturgeon, are prepared as a delicacy known as caviar.  Milk and Dairy Products  Much of the world’s milk, cream, butter, yogurt, and cheese come from dairy cows. However, goats, camels, reindeer, sheep, yaks, and water buffalo supply milk products as well.  In much of Asia, people have traditionally consumed “milk” made from soybeans. Soy milk is made from soaking and grinding soybeans with water. Soy milk contains about the same protein as cow’s milk.  Milk and dairy products supply proteins, carbohydrates, fats, and essential vitamins and minerals. The Maasai people of East Africa use milk as a staple food, and it constitutes a huge part of their diet. Yogurt, a fermented milk product, is a staple food in parts of the Middle East and India.  Diet  People’s diets vary from one country to another. Diets can also vary within a single country. Geographic differences explain part of this variation. For example, people who live near the ocean might eat greater amounts of fish than people who live farther inland. People living in cool regions with short growing seasons depend on crops that mature quickly, such as potatoes. In warm, wet lowlands where the soil retains water, rice is often a staple.  Geographic factors are less important today than they were a century ago. Improved methods of agriculture and transportation, as well as increased trade and tourism, have made more types of food available to a wider variety of people.  Improved methods of food processing, preservation, storage, and shipping allow many people to enjoy foods produced far from their homes. Spanish olive oil, French cheeses, and sardines from Norway, for example, are eaten as far away as Australia.  Local traditions and customs play a role in determining what foods people eat and how they are prepared. English tradition encourages roast beef and Yorkshire pudding, a type of bread, be eaten together. Many Asians serve rice with almost every meal.  Economic factors also affect what people eat. In the U.S. state of Maine, lobster is usually a relatively inexpensive food. The shellfish is native to the state’s coastal areas and has been a traditional food for hundreds of years. However, lobster is a luxury item in the Midwest, where it must be flown in. Lobster dishes served in Iowa may cost two to three times what they do in Maine.  In developed countries, many people have enough money to buy a variety of nutritious foods. Malnutrition is not a large problem, and people have a long lifespan. But even in these countries, there are many people who cannot buy these foods because resources are not evenly distributed throughout the population. In some places, healthy, nutritious food can be more expensive than so-called “junk food,” which has many calories but little nutritional benefit.  Even those who can afford healthy food may eat poorly. The diets of many people in developed countries are too high in the fats, salt, and refined sugars found in junk food. These diets are too low in fruits, vegetables, and fiber.  In developing countries, malnutrition is more common. A poor harvest, flood, or drought may cause famine, because the community or nation is not economically able to import food.  The diets of the urban and rural populations of developing countries are often quite different. People in urban areas eat more processed foods, while people who live in rural areas may have access to fresh milk, fruits, and vegetables. However, people living in rural areas are the first to be affected by a poor harvest.  Food and Culture  People do not eat only to obtain nutrients and ward off hunger and starvation. People’s eating habits are strongly influenced by culture. Rituals around preparing, sharing, and consuming food serve social roles as well as biological ones.  Religion sometimes plays a role in what, and when, people eat. Followers of the Jain religion, for example, strongly believe in nonviolence toward all living things. Strict Jains never eat meat. Many Jains also refrain from eating potatoes and other tubers because many small organisms are harmed as the tubers are pulled from the earth.  Jewish kashrut law and Muslim dhabihah law outline many rules for eating. Both include a ban on pork. Food that is prepared according to kashrut law is called kosher, while food that is prepared according to dhabihah law is called halal.  During the month of Ramadan, Muslims fast, or avoid eating, during daylight hours. Typically, Muslims will eat one meal before dawn and one after sunset, but nothing at all while the sun is shining. Ramadan is considered a time for inner reflection, devotion to God, and self-control.  Feasting is also an important ritual, both for religious and nonreligious reasons. Most religious fasting periods, such as Ramadan, are followed by holiday feasts. Eid al-Fitr is the Islamic holiday following Ramadan. One of the ways Muslims celebrate Eid is to donate food to the poor.  Nonreligious holidays often include feasts as well. In the United States, people gather to eat turkey, stuffing, cranberry sauce, and pumpkin pie on Thanksgiving. In China, families celebrate the Chinese New Year with foods that symbolize luck and prosperity, such as long noodles, chickens, fish, oysters, dumplings, tangerines, oranges, and sticky rice cakes.  Many people make dietary choices based on ethics—beliefs about what is right and wrong. For instance, some people choose not to eat meat out of concern for the environment. Livestock is one of the leading contributors to carbon emissions, and some people reduce the amount of beef they eat to reduce their “carbon footprint.” Many people avoid eating meat out of concern for animal welfare.  Vegetarians avoid eating all meat and fish. Vegans avoid all animal products, including eggs, milk, cheese, and honey. Some people who are not vegetarians may raise or buy humanely produced animal products such as free-range chicken and grass-fed beef.  Other ethics-based food practices include choosing organic or locally grown foods. People who choose organic foods may do so because of the reduced number of chemicals in the food. Organic food relies little on genetic modification or pesticides. Organic food also releases fewer chemicals into the environment in the form of runoff.  The “locavore” movement values the reduced environmental impact of local foods. There are fewer transportation costs, such as greenhouse gas emissions, with local foods.  The way we serve and eat food is as culturally important as what foods we consume. In East Asian countries, most people use chopsticks to pick up their food. In Europe and the Americas, a variety of utensils serve different purposes. A full, formal place setting can include a salad fork, dinner fork, dessert fork, teaspoon, soup spoon, butter knife, and dinner knife. In other countries, such as India and Ethiopia, many foods are picked up with pieces of flat bread rather than utensils.  Table manners vary widely from culture to culture. Manners include rules about how and where people should sit, when to begin eating, which utensils to use in certain situations and with which hand, and what behaviors might be considered rude.  In East Asian countries, it is considered rude to point at people with your chopsticks, or to rest your chopsticks standing upright in your rice. In Malaysia, eating with your left hand is considered unclean. In Japan, it is acceptable and even encouraged to make slurping noises while eating hot noodles, but not while eating soup. In Russia, it is considered polite to leave a bit of food after eating, but in Brazil, people are expected to eat everything on their plates.  Cuisine  Food and food preparation associated with a specific region are known as that region’s cuisine. Cuisine can be national, such as the fresh fish and noodles associated with Japanese food. Cuisine can also be regional or local. California cuisine, for instance, is known for mixing different types of national cuisines, such as French and Chinese.  A food’s adaptability to a specific region can define that region. Maize, native to North and Central America, is considered one of Mexico’s greatest “national treasures.” An image of Xochipilli, the Aztec god of maize, appears on Mexico's 100-peso bill.  Most cuisines feature staple foods of the region. In the Democratic Republic of Congo, boiled cassava root is a staple food. The large leaves of the cassava and a fiery pepper sauce called pili-pili are often part of a traditional Congolese meal. Fresh-picked bananas, papayas, and pineapples are frequently eaten. Animal proteins from poultry, fish, and crocodiles are also popular foods in the Democratic Republic of Congo.  Climate can also impact the cuisine of a region. Much of Russia faces cold winters, so few crops grow there. Warm soups are a large part of Russian cuisine. Borscht, or beet soup, is probably the most familiar Russian soup. Beets are vegetables that are capable of growing in the cold, hard ground. Grains that grow well in cold climates are also popular in Russian cuisine. Kasha, for example, is cooked grains, such as buckwheat, barley, or semolina. Blini, or buckwheat pancakes, are served with caviar, smoked fish, butter, and sour cream. Pickles, cucumbers, and onions are widely eaten.  Since Japan is surrounded by the ocean, fish is a mainstay of Japanese cuisine. It is prepared in a variety of ways. Sashimi, for example, is raw fish dipped in seasoned soy sauce. Tempura is prawns or slices of fish and vegetables dipped in batter and fried. Most sushi is made from flavored rice covered with slices of raw or cooked fish and vegetables.  Even non-native foods can define a region. Potatoes were introduced to Ireland in the early 17th century, probably by the explorer Sir Walter Raleigh, who brought the tubers home with him after exploring the Americas. Potatoes, especially the “lumper” variety, grow well in cold climates and rocky soil. Within 200 years, the population of Ireland was dependent on lumpers for most of their carbohydrates. A potato disease, or blight, struck Ireland in the mid-19th century, causing the so-called Irish Potato Famine. More than a million Irish people died of malnutrition, and a million more were forced to immigrate.  Often, cuisine reflects a country or region’s history. Pho, for instance, is a Vietnamese noodle soup made with large chunks of meat, vegetables, and spices, such as basil. Vietnam was a French colony from the 19th century to the middle of the 20th century. French colonists brought French cuisine with them, including the stew called pot au feu. Pho is an adaptation of pot au feu, with the most significant addition being rice noodles, which are native to Southeast Asia. “Pho” even sounds like “feu.”  The growing number of immigrants in many cities has broadened people’s tastes in food. Many foods associated with national cuisines are inventions of immigrants. Chicken tikka masala, for example, is one of the most popular “Indian” dishes in the world. Chicken tikka masala was invented by an immigrant Pakistani chef in Glasgow, Scotland.  Often, immigrants will adapt their traditional diet with foods not available in their homeland. Chinese-American food, for instance, often features tomatoes and potatoes, foods that are not native to Asia.  Cuisine varies widely, even within a specific region and a specific food. In the Carolinas region of the United States, for example, there are more than a dozen types of traditional barbecue. In this region, pork is the most familiar barbecued meat, although chicken and beef are also barbecued. Some barbecues feature a mustard-based sauce, while others feature tomato, vinegar, or molasses. Still other traditional barbecues are “dry,” and feature spice-based rubs instead of sauce.  World Food Supply  Feeding the world population requires a massive supply of food. Since the late 1940s, grain supplies have fluctuated, but worldwide there has been a surplus, or more than enough food to feed everyone. Yet millions go hungry. Of the over seven billion people on Earth, more than one billion are undernourished, according to the United Nations Food and Agriculture Organization (FAO). Each year, poor nutrition plays a role in about half of deaths of children under five years old.  Why do so many people starve when the world produces enough food to feed everyone? One reason is that resources, such as farmland and money, are not evenly distributed among the world’s people.  Many developed countries have millions of acres of fertile land. This huge agricultural economy allows nations like Canada, the United States, and Australia to have a strong food supply for consumption as well as export of grain, livestock, and produce.  Most hunger is not the result of a lack of fertile land, however. Most hunger is the result of poverty. Many people in developing countries are too poor to grow or buy the food they need.  Crisis situations contribute to hunger and starvation. Severe droughts, floods, and other natural disasters can create famines. In many developing counties, especially in sub-Saharan Africa, the population is growing faster than the rate of food production.  In some countries, years of continuous war have severely disrupted food production. During conflicts, millions of people flee their homes, often leaving crops to rot in the fields. The region’s uncertainty and fear mean fewer crops are planted and cultivated.  Food Aid  These natural and manmade crises can lead millions of people to become dependent on international food aid. Food aid, usually in the form of grain and other starches, is distributed to either the government or local communities. Food aid can also mean money for people or governments to buy their own food.  Food aid is controversial, for both recipients and donors. Some receiving countries are not allowed as much independence as they would like. Sometimes, food aid comes with restrictions or rules that might have little to do with food.  The governments of countries donating food may disagree with the politics or decisions of the country receiving the food aid. Food aid may be reduced if the donating country disagrees with the receiving country’s politics, such as nuclear weapons development.  Scientists debate the relationship between economic security and food security. Food security is the access a person, family, or community has to healthy foods. Growing food to export may increase a nation’s food security if the exports bring in more money to buy food imported from elsewhere in the country or abroad. However, access to food may be reduced, and the nation may become dependent on foreign food sources.  To help solve the problem of hunger and increase local food production, farmers in many developing countries need economic assistance in acquiring new agricultural technology, such as tractors. Small-scale farmers may also benefit from healthy draft animals, such as water buffalo or oxen, which are used to operate machinery, such as plows.  Agricultural technology also includes improved varieties of seeds. Seeds may withstand longer periods of drought or flood, or they may resist disease. Better transportation, communications systems, and storage facilities can help improve food distribution.\n",
            "\n",
            "Choose a summarization algorithm:\n",
            "1. TextRank (focuses on most central sentences)\n",
            "2. LexRank (similar to TextRank but uses different similarity measure)\n",
            "3. LSA (Latent Semantic Analysis - uses semantics)\n",
            "\n",
            "Enter your choice (1-3): 1\n",
            "\n",
            "How many sentences should the summary contain? 1\n",
            "\n",
            "==================================================\n",
            "SUMMARY USING TextRank:\n",
            "==================================================\n",
            "To get the right amounts of nutrients, people need to select from a range of food types: cereal grains; fruits and vegetables; legumes, meat, poultry, fish, and eggs; and milk and dairy products.\n",
            "\n",
            "==================================================\n",
            "SUMMARY STATISTICS:\n",
            "==================================================\n",
            "Original Text: 4695 words, 330 sentences\n",
            "Summary: 33 words, 1 sentences\n",
            "Reduction: 99.30%\n"
          ]
        },
        {
          "output_type": "display_data",
          "data": {
            "text/plain": [
              "<Figure size 1000x600 with 1 Axes>"
            ],
            "image/png": "[encoded data removed]"
          },
          "metadata": {}
        }
      ]
    },
    {
      "cell_type": "markdown",
      "source": [],
      "metadata": {
        "id": "H5FNiLmj3zsf"
      }
    },
    {
      "cell_type": "markdown",
      "source": [],
      "metadata": {
        "id": "QnWTqB9l3vak"
      }
    }
  ]
}