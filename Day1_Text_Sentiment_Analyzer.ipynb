{
  "nbformat": 4,
  "nbformat_minor": 0,
  "metadata": {
    "colab": {
      "provenance": [],
      "authorship_tag": "ABX9TyPBnBfJeiTXmjgbdYlHe93q",
      "include_colab_link": true
    },
    "kernelspec": {
      "name": "python3",
      "display_name": "Python 3"
    },
    "language_info": {
      "name": "python"
    }
  },
  "cells": [
    {
      "cell_type": "markdown",
      "metadata": {
        "id": "view-in-github",
        "colab_type": "text"
      },
      "source": [
        "<a href=\"https://colab.research.google.com/github/KIRTIRAJ4327/30days-AI-challenge/blob/main/Day1_Text_Sentiment_Analyzer.ipynb\" target=\"_parent\"><img src=\"https://colab.research.google.com/assets/colab-badge.svg\" alt=\"Open In Colab\"/></a>"
      ]
    },
    {
      "cell_type": "markdown",
      "source": [
        "**Imported** **Textblob**\n",
        "\n",
        "\n"
      ],
      "metadata": {
        "id": "TsW6NoG88zNu"
      }
    },
    {
      "cell_type": "code",
      "execution_count": null,
      "metadata": {
        "id": "qRT9fBEY1QXT",
        "colab": {
          "base_uri": "https://localhost:8080/"
        },
        "outputId": "7bd6cff4-99d1-439c-c1b6-80cec454a431"
      },
      "outputs": [
        {
          "output_type": "stream",
          "name": "stdout",
          "text": [
            "Requirement already satisfied: textblob in /usr/local/lib/python3.11/dist-packages (0.19.0)\n",
            "Requirement already satisfied: nltk>=3.9 in /usr/local/lib/python3.11/dist-packages (from textblob) (3.9.1)\n",
            "Requirement already satisfied: click in /usr/local/lib/python3.11/dist-packages (from nltk>=3.9->textblob) (8.1.8)\n",
            "Requirement already satisfied: joblib in /usr/local/lib/python3.11/dist-packages (from nltk>=3.9->textblob) (1.4.2)\n",
            "Requirement already satisfied: regex>=2021.8.3 in /usr/local/lib/python3.11/dist-packages (from nltk>=3.9->textblob) (2024.11.6)\n",
            "Requirement already satisfied: tqdm in /usr/local/lib/python3.11/dist-packages (from nltk>=3.9->textblob) (4.67.1)\n"
          ]
        }
      ],
      "source": [
        "!pip install textblob"
      ]
    },
    {
      "cell_type": "code",
      "source": [
        "from textblob import TextBlob"
      ],
      "metadata": {
        "id": "FoO6TtL28xuO"
      },
      "execution_count": null,
      "outputs": []
    },
    {
      "cell_type": "code",
      "source": [
        "import json\n",
        "greviews = []\n",
        "with open('/content/Gift_Cards.jsonl', 'r') as file:\n",
        "    for line in file:\n",
        "        greviews.append(json.loads(line))"
      ],
      "metadata": {
        "id": "BwbHkP4dANUg"
      },
      "execution_count": null,
      "outputs": []
    },
    {
      "cell_type": "code",
      "source": [
        "# Examine the structure of one review\n",
        "print(json.dumps(greviews[0], indent=2))"
      ],
      "metadata": {
        "colab": {
          "base_uri": "https://localhost:8080/"
        },
        "id": "JZqBtSVYFa1J",
        "outputId": "bb74d56a-dcc1-48f5-cd08-9367e69db1e1"
      },
      "execution_count": null,
      "outputs": [
        {
          "output_type": "stream",
          "name": "stdout",
          "text": [
            "{\n",
            "  \"rating\": 5.0,\n",
            "  \"title\": \"Great gift\",\n",
            "  \"text\": \"Having Amazon money is always good.\",\n",
            "  \"images\": [],\n",
            "  \"asin\": \"B00IX1I3G6\",\n",
            "  \"parent_asin\": \"B00IX1I3G6\",\n",
            "  \"user_id\": \"AHZ6XMOLEWA67S3TX7IWEXXGWSOA\",\n",
            "  \"timestamp\": 1549866158332,\n",
            "  \"helpful_vote\": 0,\n",
            "  \"verified_purchase\": true\n",
            "}\n"
          ]
        }
      ]
    },
    {
      "cell_type": "code",
      "source": [
        "greviews[0].keys()"
      ],
      "metadata": {
        "colab": {
          "base_uri": "https://localhost:8080/"
        },
        "id": "9m_3z6iG0qov",
        "outputId": "671c9069-1aae-4793-915b-e219a52e552d"
      },
      "execution_count": null,
      "outputs": [
        {
          "output_type": "execute_result",
          "data": {
            "text/plain": [
              "dict_keys(['rating', 'title', 'text', 'images', 'asin', 'parent_asin', 'user_id', 'timestamp', 'helpful_vote', 'verified_purchase'])"
            ]
          },
          "metadata": {},
          "execution_count": 13
        }
      ]
    },
    {
      "cell_type": "code",
      "source": [
        "for i in range(5):\n",
        "    print(greviews[i])"
      ],
      "metadata": {
        "colab": {
          "base_uri": "https://localhost:8080/"
        },
        "id": "OuSUo6aMztHx",
        "outputId": "3e034637-d15b-428a-e459-a09200e5f3bd"
      },
      "execution_count": null,
      "outputs": [
        {
          "output_type": "stream",
          "name": "stdout",
          "text": [
            "{'rating': 5.0, 'title': 'Great gift', 'text': 'Having Amazon money is always good.', 'images': [], 'asin': 'B00IX1I3G6', 'parent_asin': 'B00IX1I3G6', 'user_id': 'AHZ6XMOLEWA67S3TX7IWEXXGWSOA', 'timestamp': 1549866158332, 'helpful_vote': 0, 'verified_purchase': True}\n",
            "{'rating': 5.0, 'title': 'amazon gift card', 'text': \"Always the perfect gift.  I have never given one and had someone seem or act disappointed.  Just the opposite.  They are thrilled and excited to have a bit of a spree.  Always the perfect size and color!  Arrives in 1 day in most cases.  So it's never too late!  Lots of cards to chose from... thank you... birthday... wedding..baby..  and many that work for many occasions...\", 'images': [], 'asin': 'B005ESMMWW', 'parent_asin': 'B005ESMMWW', 'user_id': 'AFZUK3MTBIBEDQOPAK3OATUOUKLA', 'timestamp': 1599875158120, 'helpful_vote': 0, 'verified_purchase': False}\n",
            "{'rating': 5.0, 'title': 'perfect gift', 'text': \"When you have a person who is hard to shop for.. an amazon gift card is P E R F E C T.  Man or woman...  No matter what their hobby... lifestyle.. or age.  All you have to do is pick the $.  Don't forget to mention that it is a GIFT when you check out - you will have some gift card options.  I've ordered many of these over years.  They are always received with glee.  Woo hoo!  If you're looking for a great fit for me - this is just my size!  :)  Best to all!\", 'images': [], 'asin': 'B01K8RIM5Y', 'parent_asin': 'B005S28ZES', 'user_id': 'AFZUK3MTBIBEDQOPAK3OATUOUKLA', 'timestamp': 1535939929239, 'helpful_vote': 27, 'verified_purchase': True}\n",
            "{'rating': 5.0, 'title': 'Nice looking', 'text': \"The tin is a nice touch and pretty large.  It's about 4&#34; in diameter and about 1/2&#34; thick.  I added a pretty red ribbon and it is perfect.  Who doesn't love shopping on Amazon? Arrived quickly, I have Prime... but I think they ship the gift cards out SUPER fast... like over night. In case you need it for a FAST gift.\", 'images': [], 'asin': 'B0091JKVU0', 'parent_asin': 'B00ADR2LV6', 'user_id': 'AFZUK3MTBIBEDQOPAK3OATUOUKLA', 'timestamp': 1418439577000, 'helpful_vote': 0, 'verified_purchase': False}\n",
            "{'rating': 1.0, 'title': 'Not $10 Gift Cards', 'text': \"I bought this pack of Starbucks Gift cards in 2019. Ive given them to friends and I gave 2 to my daughter.<br />My daughter used one recently and it had $6.52 on the card not $10.00. She had the cashier check the balance of the other card and it had $5.32 on it! She had forgotten that she had these gift cards, so yes, 2 years later decided to use the when she found them! Do they decline in value? And then both had random amounts on them! I'm embarrassed now to have given them as gifts! Friends receiving the gift card aren't going to tell you that weren't able to cover their order with the card you gave them!!!\", 'images': [], 'asin': 'B00FTGTM5E', 'parent_asin': 'B00FTGTIOE', 'user_id': 'AH5L7ILVA6HYLZOUZIQAWNHVVK3A', 'timestamp': 1638068808115, 'helpful_vote': 2, 'verified_purchase': True}\n"
          ]
        }
      ]
    },
    {
      "cell_type": "markdown",
      "source": [],
      "metadata": {
        "id": "mp3V-X1DHMO8"
      }
    },
    {
      "cell_type": "code",
      "source": [
        "print(f\"Total number of reviews in dataset: {len(greviews)}\")"
      ],
      "metadata": {
        "colab": {
          "base_uri": "https://localhost:8080/"
        },
        "id": "pjo_Ll2JJzfR",
        "outputId": "32bb7523-3148-42a5-87c2-8a1cffee59d7"
      },
      "execution_count": null,
      "outputs": [
        {
          "output_type": "stream",
          "name": "stdout",
          "text": [
            "Total number of reviews in dataset: 152410\n"
          ]
        }
      ]
    },
    {
      "cell_type": "markdown",
      "source": [
        "create a function to extract and clean the text from each review"
      ],
      "metadata": {
        "id": "QS452_jDJ4Ra"
      }
    },
    {
      "cell_type": "code",
      "source": [
        "def clean_text(review):\n",
        "    # Extract text from review\n",
        "    text = review.get('text', '')\n",
        "\n",
        "    # Add title if available (optional)\n",
        "    title = review.get('title', '')\n",
        "    if title:\n",
        "        full_text = title + \". \" + text\n",
        "    else:\n",
        "        full_text = text\n",
        "\n",
        "    # Basic cleaning\n",
        "    cleaned_text = full_text.lower().strip()\n",
        "\n",
        "    return cleaned_text"
      ],
      "metadata": {
        "id": "h3D4HHuSJ41d"
      },
      "execution_count": null,
      "outputs": []
    },
    {
      "cell_type": "markdown",
      "source": [
        "Apply this function to your reviews and check some examples"
      ],
      "metadata": {
        "id": "oUmlp9JYDW0B"
      }
    },
    {
      "cell_type": "code",
      "source": [
        "# Apply cleaning to each review\n",
        "cleaned_reviews = []\n",
        "for review in greviews:\n",
        "    cleaned_text = clean_text(review)\n",
        "    cleaned_reviews.append({\n",
        "        'original_rating': review.get('rating', None),\n",
        "        'text': cleaned_text,\n",
        "        'asin': review.get('asin', '')  # product identifier\n",
        "    })\n",
        "\n",
        "# Check a few examples\n",
        "for i in range(min(5, len(cleaned_reviews))):\n",
        "    print(f\"Review {i+1}: {cleaned_reviews[i]['text'][:100]}...\")\n",
        "    print(f\"Original rating: {cleaned_reviews[i]['original_rating']}\\n\")"
      ],
      "metadata": {
        "colab": {
          "base_uri": "https://localhost:8080/"
        },
        "id": "MJvbn6Y7KA6B",
        "outputId": "62cbe123-c039-4a55-da6b-08df9c6c029e"
      },
      "execution_count": null,
      "outputs": [
        {
          "output_type": "stream",
          "name": "stdout",
          "text": [
            "Review 1: great gift. having amazon money is always good....\n",
            "Original rating: 5.0\n",
            "\n",
            "Review 2: amazon gift card. always the perfect gift.  i have never given one and had someone seem or act disap...\n",
            "Original rating: 5.0\n",
            "\n",
            "Review 3: perfect gift. when you have a person who is hard to shop for.. an amazon gift card is p e r f e c t....\n",
            "Original rating: 5.0\n",
            "\n",
            "Review 4: nice looking. the tin is a nice touch and pretty large.  it's about 4&#34; in diameter and about 1/2...\n",
            "Original rating: 5.0\n",
            "\n",
            "Review 5: not $10 gift cards. i bought this pack of starbucks gift cards in 2019. ive given them to friends an...\n",
            "Original rating: 1.0\n",
            "\n"
          ]
        }
      ]
    },
    {
      "cell_type": "markdown",
      "source": [
        "Now you're ready to analyze sentiment! Let's install TextBlob"
      ],
      "metadata": {
        "id": "uEdB4lLgKKWT"
      }
    },
    {
      "cell_type": "code",
      "source": [
        "!pip install textblob\n",
        "!python -m textblob.download_corpora"
      ],
      "metadata": {
        "colab": {
          "base_uri": "https://localhost:8080/"
        },
        "id": "mTnmSjfuKK5Z",
        "outputId": "6c67a447-189e-4623-a01a-f87d8845a071"
      },
      "execution_count": null,
      "outputs": [
        {
          "output_type": "stream",
          "name": "stdout",
          "text": [
            "Requirement already satisfied: textblob in /usr/local/lib/python3.11/dist-packages (0.19.0)\n",
            "Requirement already satisfied: nltk>=3.9 in /usr/local/lib/python3.11/dist-packages (from textblob) (3.9.1)\n",
            "Requirement already satisfied: click in /usr/local/lib/python3.11/dist-packages (from nltk>=3.9->textblob) (8.1.8)\n",
            "Requirement already satisfied: joblib in /usr/local/lib/python3.11/dist-packages (from nltk>=3.9->textblob) (1.4.2)\n",
            "Requirement already satisfied: regex>=2021.8.3 in /usr/local/lib/python3.11/dist-packages (from nltk>=3.9->textblob) (2024.11.6)\n",
            "Requirement already satisfied: tqdm in /usr/local/lib/python3.11/dist-packages (from nltk>=3.9->textblob) (4.67.1)\n",
            "[nltk_data] Downloading package brown to /root/nltk_data...\n",
            "[nltk_data]   Unzipping corpora/brown.zip.\n",
            "[nltk_data] Downloading package punkt_tab to /root/nltk_data...\n",
            "[nltk_data]   Unzipping tokenizers/punkt_tab.zip.\n",
            "[nltk_data] Downloading package wordnet to /root/nltk_data...\n",
            "[nltk_data] Downloading package averaged_perceptron_tagger_eng to\n",
            "[nltk_data]     /root/nltk_data...\n",
            "[nltk_data]   Unzipping taggers/averaged_perceptron_tagger_eng.zip.\n",
            "[nltk_data] Downloading package conll2000 to /root/nltk_data...\n",
            "[nltk_data]   Unzipping corpora/conll2000.zip.\n",
            "[nltk_data] Downloading package movie_reviews to /root/nltk_data...\n",
            "[nltk_data]   Unzipping corpora/movie_reviews.zip.\n",
            "Finished.\n"
          ]
        }
      ]
    },
    {
      "cell_type": "markdown",
      "source": [
        "Then, create a function to analyze sentiment"
      ],
      "metadata": {
        "id": "eZB82m9OKQ1Z"
      }
    },
    {
      "cell_type": "code",
      "source": [
        "from textblob import TextBlob\n",
        "\n",
        "def analyze_sentiment(text):\n",
        "    # Create TextBlob object\n",
        "    blob = TextBlob(text)\n",
        "\n",
        "    # Get sentiment polarity (-1 to 1)\n",
        "    polarity = blob.sentiment.polarity\n",
        "\n",
        "    # Classify sentiment\n",
        "    if polarity > 0.1:\n",
        "        sentiment = 'positive'\n",
        "    elif polarity < -0.1:\n",
        "        sentiment = 'negative'\n",
        "    else:\n",
        "        sentiment = 'neutral'\n",
        "\n",
        "    return {\n",
        "        'polarity': polarity,\n",
        "        'sentiment': sentiment\n",
        "    }"
      ],
      "metadata": {
        "id": "0DQUI4pKKRTo"
      },
      "execution_count": null,
      "outputs": []
    },
    {
      "cell_type": "markdown",
      "source": [
        "apply the sentiment analysis function to each cleaned review"
      ],
      "metadata": {
        "id": "c5ST3LCYKdqp"
      }
    },
    {
      "cell_type": "code",
      "source": [
        "from textblob import TextBlob\n",
        "\n",
        "# Apply sentiment analysis to each review\n",
        "for review in cleaned_reviews:\n",
        "    sentiment_results = analyze_sentiment(review['text'])\n",
        "    review['polarity'] = sentiment_results['polarity']\n",
        "    review['sentiment'] = sentiment_results['sentiment']\n",
        "\n",
        "# Check a few examples with sentiment\n",
        "print(\"Sample reviews with sentiment analysis:\")\n",
        "for i in range(min(5, len(cleaned_reviews))):\n",
        "    print(f\"Review: {cleaned_reviews[i]['text'][:100]}...\")\n",
        "    print(f\"Original rating: {cleaned_reviews[i]['original_rating']}\")\n",
        "    print(f\"Sentiment: {cleaned_reviews[i]['sentiment']} (polarity: {cleaned_reviews[i]['polarity']:.2f})\\n\")"
      ],
      "metadata": {
        "colab": {
          "base_uri": "https://localhost:8080/"
        },
        "id": "S835uMnZKfMR",
        "outputId": "78a740c7-bbf0-47ad-ff17-c29f8984d4f8"
      },
      "execution_count": null,
      "outputs": [
        {
          "output_type": "stream",
          "name": "stdout",
          "text": [
            "Sample reviews with sentiment analysis:\n",
            "Review: great gift. having amazon money is always good....\n",
            "Original rating: 5.0\n",
            "Sentiment: positive (polarity: 0.75)\n",
            "\n",
            "Review: amazon gift card. always the perfect gift.  i have never given one and had someone seem or act disap...\n",
            "Original rating: 5.0\n",
            "Sentiment: positive (polarity: 0.34)\n",
            "\n",
            "Review: perfect gift. when you have a person who is hard to shop for.. an amazon gift card is p e r f e c t....\n",
            "Original rating: 5.0\n",
            "Sentiment: positive (polarity: 0.59)\n",
            "\n",
            "Review: nice looking. the tin is a nice touch and pretty large.  it's about 4&#34; in diameter and about 1/2...\n",
            "Original rating: 5.0\n",
            "Sentiment: positive (polarity: 0.32)\n",
            "\n",
            "Review: not $10 gift cards. i bought this pack of starbucks gift cards in 2019. ive given them to friends an...\n",
            "Original rating: 1.0\n",
            "Sentiment: neutral (polarity: 0.01)\n",
            "\n"
          ]
        }
      ]
    },
    {
      "cell_type": "markdown",
      "source": [
        "let's analyze the distribution of sentiment in your dataset"
      ],
      "metadata": {
        "id": "tGH32_MCKnZ7"
      }
    },
    {
      "cell_type": "code",
      "source": [
        "# Count sentiments\n",
        "sentiment_counts = {'positive': 0, 'neutral': 0, 'negative': 0}\n",
        "for review in cleaned_reviews:\n",
        "    sentiment_counts[review['sentiment']] += 1\n",
        "\n",
        "# Calculate percentages\n",
        "total = len(cleaned_reviews)\n",
        "percentages = {k: (v/total)*100 for k, v in sentiment_counts.items()}\n",
        "\n",
        "print(\"Sentiment Distribution:\")\n",
        "for sentiment, count in sentiment_counts.items():\n",
        "    print(f\"{sentiment}: {count} reviews ({percentages[sentiment]:.1f}%)\")"
      ],
      "metadata": {
        "colab": {
          "base_uri": "https://localhost:8080/"
        },
        "id": "3qOLv_QtKoQi",
        "outputId": "b5d5a3b3-9e98-44e1-8702-4a85a1e5fd3c"
      },
      "execution_count": null,
      "outputs": [
        {
          "output_type": "stream",
          "name": "stdout",
          "text": [
            "Sentiment Distribution:\n",
            "positive: 116325 reviews (76.3%)\n",
            "neutral: 28733 reviews (18.9%)\n",
            "negative: 7352 reviews (4.8%)\n"
          ]
        }
      ]
    },
    {
      "cell_type": "markdown",
      "source": [
        " let's visualize the sentiment distribution"
      ],
      "metadata": {
        "id": "ZZ_fgnvqKz6z"
      }
    },
    {
      "cell_type": "code",
      "source": [
        "import matplotlib.pyplot as plt\n",
        "\n",
        "# Pie chart of sentiment distribution\n",
        "plt.figure(figsize=(10, 6))\n",
        "plt.pie(sentiment_counts.values(), labels=sentiment_counts.keys(), autopct='%1.1f%%',\n",
        "        colors=['green', 'gray', 'red'])\n",
        "plt.title('Sentiment Analysis of Gift Card Reviews')\n",
        "plt.axis('equal')  # Equal aspect ratio ensures that pie is drawn as a circle\n",
        "plt.show()"
      ],
      "metadata": {
        "colab": {
          "base_uri": "https://localhost:8080/",
          "height": 521
        },
        "id": "k4gu_pmEK0bh",
        "outputId": "d7e495b4-5bca-4155-9432-ddcfc55b97ed"
      },
      "execution_count": null,
      "outputs": [
        {
          "output_type": "display_data",
          "data": {
            "text/plain": [
              "<Figure size 1000x600 with 1 Axes>"
            ],
            "image/png": "[encoded data removed]"
          },
          "metadata": {}
        }
      ]
    },
    {
      "cell_type": "markdown",
      "source": [
        "let's compare the sentiment analysis with the original star ratings"
      ],
      "metadata": {
        "id": "OMtnB1W9K5AT"
      }
    },
    {
      "cell_type": "code",
      "source": [
        "# Create lists for plotting\n",
        "ratings = []\n",
        "polarities = []\n",
        "\n",
        "for review in cleaned_reviews:\n",
        "    if review['original_rating'] is not None:  # Skip if rating is missing\n",
        "        ratings.append(review['original_rating'])\n",
        "        polarities.append(review['polarity'])\n",
        "\n",
        "# Create scatter plot\n",
        "plt.figure(figsize=(10, 6))\n",
        "plt.scatter(ratings, polarities, alpha=0.5)\n",
        "plt.xlabel('Star Rating')\n",
        "plt.ylabel('Sentiment Polarity')\n",
        "plt.title('Relationship Between Star Ratings and Sentiment Polarity')\n",
        "plt.grid(True)\n",
        "plt.show()"
      ],
      "metadata": {
        "id": "7PftcNrjK5hu",
        "outputId": "5b5b053f-cce1-4c12-8915-634fc804fdbb",
        "colab": {
          "base_uri": "https://localhost:8080/",
          "height": 544
        }
      },
      "execution_count": null,
      "outputs": [
        {
          "output_type": "display_data",
          "data": {
            "text/plain": [
              "<Figure size 1000x600 with 1 Axes>"
            ],
            "image/png": "[encoded data removed]"
          },
          "metadata": {}
        }
      ]
    }
  ]
}